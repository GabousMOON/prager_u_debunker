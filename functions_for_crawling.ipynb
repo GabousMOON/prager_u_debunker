{
 "cells": [
  {
   "cell_type": "code",
   "execution_count": 46,
   "metadata": {},
   "outputs": [],
   "source": [
    "import requests\n",
    "import bs4 as bs\n",
    "import selenium as sel\n",
    "from selenium import webdriver\n",
    "from selenium.webdriver.chrome.service import Service\n",
    "from selenium.webdriver.chrome.options import Options\n",
    "from webdriver_manager.chrome import ChromeDriverManager\n",
    "from selenium.webdriver.common.by import By\n",
    "import pandas as pd\n",
    "import tldextract as tld\n",
    "import matplotlib.pyplot as plt\n",
    "import seaborn as sns\n",
    "from tqdm import tqdm\n",
    "import time\n",
    "from concurrent.futures import ThreadPoolExecutor\n",
    "from bs4 import BeautifulSoup\n",
    "import csv\n",
    "import os"
   ]
  },
  {
   "cell_type": "code",
   "execution_count": 47,
   "metadata": {},
   "outputs": [],
   "source": [
    "driver = webdriver.Chrome(ChromeDriverManager().install())"
   ]
  },
  {
   "cell_type": "code",
   "execution_count": 48,
   "metadata": {},
   "outputs": [],
   "source": [
    "def get_sources(driver, video_link: str):\n",
    "    driver.get(video_link)\n",
    "    buttons = driver.find_elements('xpath',\n",
    "                                \"//button[contains(@class, 'box-border inline-flex flex-col items-center justify-center gap-1 rounded-full px-0 py-[.625rem] text-xs font-normal focus:outline-none focus-visible:ring-4 disabled:opacity-60 sm:text-sm xl:flex-row xl:gap-2')]\")\n",
    "    for button in buttons:\n",
    "        if \"Facts &amp; Sources\" in button.get_attribute('innerHTML'):\n",
    "            button.click()\n",
    "    links = driver.find_elements('xpath',\n",
    "                                \"//a[contains(@class, 'box-border cursor-pointer items-center justify-center gap-2 rounded-full font-bold focus:outline-none focus-visible:ring-4 py-[.625rem] text-primary hover:opacity-80 focus-visible:ring-neutral-1/25 inline-flex px-0 text-sm')]\") \n",
    "    links = [link.get_attribute('href') for link in links]\n",
    "    return links"
   ]
  },
  {
   "cell_type": "code",
   "execution_count": 49,
   "metadata": {},
   "outputs": [],
   "source": [
    "def export_sources_csv_one_video(vid_link: str) -> None:\n",
    "    title = vid_link.split('/')[-1].split('?')[0]\n",
    "    directory = f\"{vid_link.split('/')[-1].split('?')[-1].split('=')[-1]}-playlist\"\n",
    "    with open (f'{directory}/{title}.csv', 'w') as test_file:\n",
    "        test_writer = csv.writer(test_file)\n",
    "        test_writer.writerow(['video', 'subdomain', 'domain', 'top_level', 'response'])\n",
    "        def parse_page(url):\n",
    "            # perform the HTTP request to the specified URL\n",
    "            try:\n",
    "                response = requests.get(url).status_code\n",
    "            except:\n",
    "                response = '404'\n",
    "            extracted = tld.extract(url)\n",
    "            test_writer.writerow([title, extracted.subdomain, extracted.domain, extracted.suffix, response])\n",
    "        \n",
    "        urls = get_sources(driver, vid_link)\n",
    "        \n",
    "        # max number of threads to use\n",
    "        MAX_THREADS = 12\n",
    "\n",
    "        # initialize ThreadPoolExecutor and use it to call parse_page() in parallel\n",
    "        with ThreadPoolExecutor(max_workers=MAX_THREADS) as executor:\n",
    "            executor.map(parse_page, urls)"
   ]
  },
  {
   "cell_type": "code",
   "execution_count": 50,
   "metadata": {},
   "outputs": [],
   "source": [
    "def find_links_in_playlist(driver, playlist_link: str):\n",
    "    driver.get(playlist_link)\n",
    "    time.sleep(2)\n",
    "    videos = driver.find_elements('xpath',\n",
    "                                  \"//a[contains(@class, 'grid grid-cols-[142px_1fr] items-center gap-4 overflow-hidden sm:grid-cols-[168px_1fr]')]\")\n",
    "    return videos"
   ]
  },
  {
   "cell_type": "code",
   "execution_count": 51,
   "metadata": {},
   "outputs": [],
   "source": [
    "def get_sources_of_playlist(driver, play_list_link: 'str'):\n",
    "    new_dir = f\"{play_list_link.split('/')[-1].split('?')[-1].split('=')[-1]}-playlist\"\n",
    "    if new_dir not in os.listdir():\n",
    "        os.mkdir(f\"{play_list_link.split('/')[-1].split('?')[-1].split('=')[-1]}-playlist\")\n",
    "    videos = find_links_in_playlist(driver, play_list_link)\n",
    "\n",
    "    fixed = []\n",
    "    for video in videos:\n",
    "        fixed.append(video.get_attribute('href'))\n",
    "\n",
    "    for vid in tqdm(range(len(fixed))):\n",
    "        vid = fixed[vid]\n",
    "        export_sources_csv_one_video(vid)\n",
    "    driver.close()"
   ]
  },
  {
   "cell_type": "code",
   "execution_count": 52,
   "metadata": {},
   "outputs": [],
   "source": [
    "def get_data_frame_for_playlist(directory: str) -> pd.DataFrame:\n",
    "    files = [_ for _ in os.listdir(directory) if _.endswith('.csv')]\n",
    "    dfs = []\n",
    "    for csv_file in files:\n",
    "        df = pd.read_csv(os.path.join(directory, csv_file))\n",
    "        dfs.append(df)\n",
    "    final_df = pd.concat(dfs, ignore_index=True)\n",
    "    return final_df"
   ]
  },
  {
   "cell_type": "code",
   "execution_count": 22,
   "metadata": {},
   "outputs": [
    {
     "name": "stderr",
     "output_type": "stream",
     "text": [
      "100%|██████████| 23/23 [02:03<00:00,  5.37s/it]\n"
     ]
    }
   ],
   "source": [
    "get_sources_of_playlist(\n",
    "    driver=driver,\n",
    "    play_list_link='https://www.prageru.com/video/how-to-stop-the-border-crisis?playlist=all-about-immigration',\n",
    ")"
   ]
  },
  {
   "cell_type": "code",
   "execution_count": 26,
   "metadata": {},
   "outputs": [],
   "source": [
    "df = get_data_frame_for_playlist('all-about-immigration-playlist')"
   ]
  },
  {
   "cell_type": "code",
   "execution_count": 44,
   "metadata": {},
   "outputs": [
    {
     "data": {
      "text/html": [
       "<div>\n",
       "<style scoped>\n",
       "    .dataframe tbody tr th:only-of-type {\n",
       "        vertical-align: middle;\n",
       "    }\n",
       "\n",
       "    .dataframe tbody tr th {\n",
       "        vertical-align: top;\n",
       "    }\n",
       "\n",
       "    .dataframe thead th {\n",
       "        text-align: right;\n",
       "    }\n",
       "</style>\n",
       "<table border=\"1\" class=\"dataframe\">\n",
       "  <thead>\n",
       "    <tr style=\"text-align: right;\">\n",
       "      <th></th>\n",
       "      <th>video</th>\n",
       "      <th>subdomain</th>\n",
       "      <th>domain</th>\n",
       "      <th>top_level</th>\n",
       "      <th>response</th>\n",
       "    </tr>\n",
       "  </thead>\n",
       "  <tbody>\n",
       "    <tr>\n",
       "      <th>177</th>\n",
       "      <td>the-suicide-of-europe</td>\n",
       "      <td>www</td>\n",
       "      <td>independent</td>\n",
       "      <td>co.uk</td>\n",
       "      <td>200</td>\n",
       "    </tr>\n",
       "    <tr>\n",
       "      <th>180</th>\n",
       "      <td>the-suicide-of-europe</td>\n",
       "      <td>www</td>\n",
       "      <td>independent</td>\n",
       "      <td>co.uk</td>\n",
       "      <td>200</td>\n",
       "    </tr>\n",
       "    <tr>\n",
       "      <th>184</th>\n",
       "      <td>the-suicide-of-europe</td>\n",
       "      <td>www</td>\n",
       "      <td>express</td>\n",
       "      <td>co.uk</td>\n",
       "      <td>200</td>\n",
       "    </tr>\n",
       "    <tr>\n",
       "      <th>187</th>\n",
       "      <td>the-suicide-of-europe</td>\n",
       "      <td>www</td>\n",
       "      <td>spectator</td>\n",
       "      <td>co.uk</td>\n",
       "      <td>404</td>\n",
       "    </tr>\n",
       "    <tr>\n",
       "      <th>192</th>\n",
       "      <td>the-suicide-of-europe</td>\n",
       "      <td>www</td>\n",
       "      <td>standard</td>\n",
       "      <td>co.uk</td>\n",
       "      <td>200</td>\n",
       "    </tr>\n",
       "  </tbody>\n",
       "</table>\n",
       "</div>"
      ],
      "text/plain": [
       "                     video subdomain       domain top_level response\n",
       "177  the-suicide-of-europe       www  independent     co.uk      200\n",
       "180  the-suicide-of-europe       www  independent     co.uk      200\n",
       "184  the-suicide-of-europe       www      express     co.uk      200\n",
       "187  the-suicide-of-europe       www    spectator     co.uk      404\n",
       "192  the-suicide-of-europe       www     standard     co.uk      200"
      ]
     },
     "execution_count": 44,
     "metadata": {},
     "output_type": "execute_result"
    }
   ],
   "source": [
    "df.loc[df.top_level == 'co.uk']"
   ]
  },
  {
   "cell_type": "code",
   "execution_count": 53,
   "metadata": {},
   "outputs": [
    {
     "name": "stderr",
     "output_type": "stream",
     "text": [
      "100%|██████████| 20/20 [01:22<00:00,  4.13s/it]\n"
     ]
    }
   ],
   "source": [
    "get_sources_of_playlist(\n",
    "    driver=driver,\n",
    "    play_list_link='https://www.prageru.com/video/the-dark-art-of-political-intimidation?playlist=guarding-our-freedoms',\n",
    ")"
   ]
  },
  {
   "cell_type": "code",
   "execution_count": 54,
   "metadata": {},
   "outputs": [],
   "source": [
    "df = get_data_frame_for_playlist('guarding-our-freedoms-playlist')"
   ]
  },
  {
   "cell_type": "code",
   "execution_count": 62,
   "metadata": {},
   "outputs": [
    {
     "data": {
      "text/plain": [
       "domain            \n",
       "heritage              13\n",
       "congress              13\n",
       "amazon                11\n",
       "constitutioncenter    11\n",
       "archives               9\n",
       "nationalreview         8\n",
       "fee                    7\n",
       "prageru                7\n",
       "yale                   5\n",
       "washingtonpost         5\n",
       "cornell                5\n",
       "taxfoundation          4\n",
       "cjr                    4\n",
       "mercatus               4\n",
       "britannica             4\n",
       "Name: count, dtype: int64"
      ]
     },
     "execution_count": 62,
     "metadata": {},
     "output_type": "execute_result"
    }
   ],
   "source": [
    "domains = df[['domain']].value_counts()\n",
    "domains[domains > 3]"
   ]
  },
  {
   "cell_type": "code",
   "execution_count": 63,
   "metadata": {},
   "outputs": [
    {
     "data": {
      "text/plain": [
       "top_level\n",
       "com       83\n",
       "org       55\n",
       "gov       31\n",
       "edu       19\n",
       "co.uk      1\n",
       "edu.au     1\n",
       "Name: count, dtype: int64"
      ]
     },
     "execution_count": 63,
     "metadata": {},
     "output_type": "execute_result"
    }
   ],
   "source": [
    "df.top_level.value_counts()"
   ]
  },
  {
   "cell_type": "code",
   "execution_count": 66,
   "metadata": {},
   "outputs": [
    {
     "data": {
      "text/html": [
       "<div>\n",
       "<style scoped>\n",
       "    .dataframe tbody tr th:only-of-type {\n",
       "        vertical-align: middle;\n",
       "    }\n",
       "\n",
       "    .dataframe tbody tr th {\n",
       "        vertical-align: top;\n",
       "    }\n",
       "\n",
       "    .dataframe thead th {\n",
       "        text-align: right;\n",
       "    }\n",
       "</style>\n",
       "<table border=\"1\" class=\"dataframe\">\n",
       "  <thead>\n",
       "    <tr style=\"text-align: right;\">\n",
       "      <th></th>\n",
       "      <th>video</th>\n",
       "      <th>subdomain</th>\n",
       "      <th>domain</th>\n",
       "      <th>top_level</th>\n",
       "      <th>response</th>\n",
       "    </tr>\n",
       "  </thead>\n",
       "  <tbody>\n",
       "    <tr>\n",
       "      <th>122</th>\n",
       "      <td>what-is-crony-capitalism</td>\n",
       "      <td>www</td>\n",
       "      <td>mercatus</td>\n",
       "      <td>org</td>\n",
       "      <td>403</td>\n",
       "    </tr>\n",
       "    <tr>\n",
       "      <th>123</th>\n",
       "      <td>what-is-crony-capitalism</td>\n",
       "      <td>www</td>\n",
       "      <td>mercatus</td>\n",
       "      <td>org</td>\n",
       "      <td>403</td>\n",
       "    </tr>\n",
       "    <tr>\n",
       "      <th>124</th>\n",
       "      <td>what-is-crony-capitalism</td>\n",
       "      <td>www</td>\n",
       "      <td>mercatus</td>\n",
       "      <td>org</td>\n",
       "      <td>403</td>\n",
       "    </tr>\n",
       "    <tr>\n",
       "      <th>129</th>\n",
       "      <td>what-is-crony-capitalism</td>\n",
       "      <td>www</td>\n",
       "      <td>mercatus</td>\n",
       "      <td>org</td>\n",
       "      <td>403</td>\n",
       "    </tr>\n",
       "  </tbody>\n",
       "</table>\n",
       "</div>"
      ],
      "text/plain": [
       "                        video subdomain    domain top_level response\n",
       "122  what-is-crony-capitalism       www  mercatus       org      403\n",
       "123  what-is-crony-capitalism       www  mercatus       org      403\n",
       "124  what-is-crony-capitalism       www  mercatus       org      403\n",
       "129  what-is-crony-capitalism       www  mercatus       org      403"
      ]
     },
     "execution_count": 66,
     "metadata": {},
     "output_type": "execute_result"
    }
   ],
   "source": [
    "df.loc[df['domain'] == 'mercatus']"
   ]
  },
  {
   "cell_type": "code",
   "execution_count": null,
   "metadata": {},
   "outputs": [],
   "source": []
  }
 ],
 "metadata": {
  "kernelspec": {
   "display_name": "base",
   "language": "python",
   "name": "python3"
  },
  "language_info": {
   "codemirror_mode": {
    "name": "ipython",
    "version": 3
   },
   "file_extension": ".py",
   "mimetype": "text/x-python",
   "name": "python",
   "nbconvert_exporter": "python",
   "pygments_lexer": "ipython3",
   "version": "3.11.5"
  }
 },
 "nbformat": 4,
 "nbformat_minor": 2
}
