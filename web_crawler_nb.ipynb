{
 "cells": [
  {
   "cell_type": "code",
   "execution_count": 16,
   "metadata": {},
   "outputs": [],
   "source": [
    "import requests as rq\n",
    "import bs4 as bs\n",
    "import selenium as sel\n",
    "from selenium import webdriver\n",
    "from selenium.webdriver.chrome.service import Service\n",
    "from selenium.webdriver.chrome.options import Options\n",
    "from webdriver_manager.chrome import ChromeDriverManager\n",
    "from selenium.webdriver.common.by import By\n",
    "import pandas as pd\n",
    "import tldextract as tld\n",
    "import matplotlib.pyplot as plt\n",
    "import seaborn as sns\n",
    "from tqdm import tqdm\n",
    "import time\n",
    "import threading"
   ]
  },
  {
   "cell_type": "code",
   "execution_count": 2,
   "metadata": {},
   "outputs": [],
   "source": [
    "sns.set_style('darkgrid')"
   ]
  },
  {
   "cell_type": "code",
   "execution_count": 17,
   "metadata": {},
   "outputs": [],
   "source": [
    "driver = webdriver.Chrome(ChromeDriverManager().install())"
   ]
  },
  {
   "cell_type": "code",
   "execution_count": 4,
   "metadata": {},
   "outputs": [],
   "source": [
    "driver.get(\"https://www.prageru.com/video/george-washington-a-general-without-an-army?playlist=american-presidents\")"
   ]
  },
  {
   "cell_type": "code",
   "execution_count": 5,
   "metadata": {},
   "outputs": [],
   "source": [
    "driver.maximize_window()"
   ]
  },
  {
   "cell_type": "markdown",
   "metadata": {},
   "source": [
    "## Building the function for the individual videos' links\n"
   ]
  },
  {
   "cell_type": "markdown",
   "metadata": {},
   "source": [
    "### Messing Around\n"
   ]
  },
  {
   "cell_type": "code",
   "execution_count": 142,
   "metadata": {},
   "outputs": [],
   "source": [
    "buttons = driver.find_elements(By.TAG_NAME, \"svg\")\n",
    "for button in buttons:\n",
    "    if button.get_attribute('innerHTML') == \"Facts & Sources\":\n",
    "        print(button)"
   ]
  },
  {
   "cell_type": "code",
   "execution_count": 143,
   "metadata": {},
   "outputs": [],
   "source": [
    "buttons = driver.find_elements('xpath',\n",
    "                               \"//button[contains(@class, 'box-border inline-flex flex-col items-center justify-center gap-1 rounded-full px-0 py-[.625rem] text-xs font-normal focus:outline-none focus-visible:ring-4 disabled:opacity-60 sm:text-sm xl:flex-row xl:gap-2')]\")"
   ]
  },
  {
   "cell_type": "code",
   "execution_count": 144,
   "metadata": {},
   "outputs": [
    {
     "name": "stdout",
     "output_type": "stream",
     "text": [
      "<svg class=\"inline-block\" fill=\"currentColor\" fill-rule=\"evenodd\" focusable=\"false\" role=\"img\" height=\"20\" width=\"20\"><use xlink:href=\"#circle-check\"></use></svg>Facts &amp; Sources\n"
     ]
    }
   ],
   "source": [
    "for button in buttons:\n",
    "    if \"Facts &amp; Sources\" in button.get_attribute('innerHTML'):\n",
    "        print(button.get_attribute(\"innerHTML\"))\n",
    "        button.click()"
   ]
  },
  {
   "cell_type": "code",
   "execution_count": 145,
   "metadata": {},
   "outputs": [],
   "source": [
    "links = driver.find_elements('xpath',\n",
    "                             \"//a[contains(@class, 'box-border cursor-pointer items-center justify-center gap-2 rounded-full font-bold focus:outline-none focus-visible:ring-4 py-[.625rem] text-primary hover:opacity-80 focus-visible:ring-neutral-1/25 inline-flex px-0 text-sm')]\")"
   ]
  },
  {
   "cell_type": "code",
   "execution_count": 146,
   "metadata": {},
   "outputs": [],
   "source": [
    "sources = pd.DataFrame({\n",
    "    \"response_code\": [],\n",
    "    \"sub_domain\": [],\n",
    "    \"domain\": [],\n",
    "    \"tld\": []\n",
    "})\n",
    "for link in links:\n",
    "    link = link.get_attribute(\"href\")\n",
    "    subdomain, domain, top_level = tuple(tld.extract(link))\n",
    "    row = [rq.get(link).status_code, subdomain, domain, top_level]\n",
    "    sources.loc[len(sources.index)] = row"
   ]
  },
  {
   "cell_type": "markdown",
   "metadata": {},
   "source": [
    "## Building the function to collect the individual videos\n"
   ]
  },
  {
   "cell_type": "code",
   "execution_count": 226,
   "metadata": {},
   "outputs": [],
   "source": [
    "videos = find_links_in_playlist(\n",
    "    \"https://www.prageru.com/video/george-washington-a-general-without-an-army?playlist=american-presidents\")"
   ]
  },
  {
   "cell_type": "code",
   "execution_count": 227,
   "metadata": {},
   "outputs": [],
   "source": [
    "fixed = []\n",
    "for video in videos:\n",
    "    fixed.append(video.get_attribute('href'))"
   ]
  },
  {
   "cell_type": "code",
   "execution_count": 228,
   "metadata": {},
   "outputs": [],
   "source": [
    "sources = pd.DataFrame({\n",
    "    \"response_code\": [],\n",
    "    \"sub_domain\": [],\n",
    "    \"domain\": [],\n",
    "    \"tld\": []\n",
    "})\n",
    "\n",
    "counter = 0\n",
    "for video in fixed:  # type: ignore\n",
    "    video = video\n",
    "    driver.execute_script(\"window.open('');\")\n",
    "    driver.switch_to.window(driver.window_handles[1])\n",
    "    get_sources(sources, video)\n",
    "    driver.close()\n",
    "    driver.switch_to.window(driver.window_handles[0])"
   ]
  },
  {
   "cell_type": "markdown",
   "metadata": {},
   "source": [
    "### The actual Function\n"
   ]
  },
  {
   "cell_type": "code",
   "execution_count": 5,
   "metadata": {},
   "outputs": [],
   "source": [
    "def get_individual_source(link, dataframe):\n",
    "    link = link.get_attribute('href')\n",
    "    subdomain, domain, top_level = tuple(tld.extract(link))\n",
    "    try:\n",
    "        row = [rq.get(link).status_code, subdomain, domain, top_level]\n",
    "    except:\n",
    "        row = ['404', subdomain, domain, top_level]\n",
    "    dataframe.loc[len(dataframe.index)] = row\n",
    "        \n",
    "    "
   ]
  },
  {
   "cell_type": "code",
   "execution_count": 11,
   "metadata": {},
   "outputs": [],
   "source": [
    "def get_sources(driver, dataframe: pd.DataFrame, video_link: str):\n",
    "    driver.get(video_link)\n",
    "    buttons = driver.find_elements('xpath',\n",
    "                                   \"//button[contains(@class, 'box-border inline-flex flex-col items-center justify-center gap-1 rounded-full px-0 py-[.625rem] text-xs font-normal focus:outline-none focus-visible:ring-4 disabled:opacity-60 sm:text-sm xl:flex-row xl:gap-2')]\")\n",
    "    for button in buttons:\n",
    "        if \"Facts &amp; Sources\" in button.get_attribute('innerHTML'):\n",
    "            button.click()\n",
    "    links = driver.find_elements('xpath',\n",
    "                                 \"//a[contains(@class, 'box-border cursor-pointer items-center justify-center gap-2 rounded-full font-bold focus:outline-none focus-visible:ring-4 py-[.625rem] text-primary hover:opacity-80 focus-visible:ring-neutral-1/25 inline-flex px-0 text-sm')]\")\n",
    "    for link in range(len(links)):\n",
    "        link = links[link]\n",
    "        link = link.get_attribute(\"href\")\n",
    "        subdomain, domain, top_level = tuple(tld.extract(link))\n",
    "        try:\n",
    "            row = [rq.get(link).status_code, subdomain, domain, top_level]\n",
    "        except:\n",
    "            row = ['404', subdomain, domain, top_level]\n",
    "        dataframe.loc[len(dataframe.index)] = row"
   ]
  },
  {
   "cell_type": "code",
   "execution_count": 12,
   "metadata": {},
   "outputs": [],
   "source": [
    "def find_links_in_playlist(driver, playlist_link: str):\n",
    "    driver.get(playlist_link)\n",
    "    time.sleep(2)\n",
    "    videos = driver.find_elements('xpath',\n",
    "                                  \"//a[contains(@class, 'grid grid-cols-[142px_1fr] items-center gap-4 overflow-hidden sm:grid-cols-[168px_1fr]')]\")\n",
    "    return videos"
   ]
  },
  {
   "cell_type": "code",
   "execution_count": 13,
   "metadata": {},
   "outputs": [],
   "source": [
    "def get_sources_of_playlist(driver, play_list_link: 'str', count: int = 0):\n",
    "    sources = pd.DataFrame({\n",
    "        \"response_code\": [],\n",
    "        \"sub_domain\": [],\n",
    "        \"domain\": [],\n",
    "        \"tld\": []\n",
    "    })\n",
    "\n",
    "    videos = find_links_in_playlist(driver, play_list_link)\n",
    "\n",
    "    fixed = []\n",
    "    for video in videos:\n",
    "        fixed.append(video.get_attribute('href'))\n",
    "\n",
    "    number = 0\n",
    "    for video in range(len(fixed)):\n",
    "        video = fixed[video]\n",
    "        driver.execute_script(\"window.open('');\")\n",
    "        driver.switch_to.window(driver.window_handles[1])\n",
    "        get_sources(driver, sources, video)\n",
    "        driver.close()\n",
    "        driver.switch_to.window(driver.window_handles[0])\n",
    "        number += 1\n",
    "        if number == count:\n",
    "            break\n",
    "    return sources"
   ]
  },
  {
   "cell_type": "code",
   "execution_count": 14,
   "metadata": {},
   "outputs": [],
   "source": [
    "driver = webdriver.Chrome(ChromeDriverManager().install())"
   ]
  },
  {
   "cell_type": "code",
   "execution_count": 15,
   "metadata": {},
   "outputs": [
    {
     "name": "stdout",
     "output_type": "stream",
     "text": [
      "https://www.nps.gov/thrb/learn/historyculture/tr-rr-spanamwar.htm\n",
      "https://www.amazon.com/United-States-Latin-America-Diplomacy-ebook/dp/B0BL5GS3WD/\n",
      "https://www.newyorkalmanack.com/2022/02/william-jennings-bryan-theodore-roosevelt-jp-morgan/\n",
      "https://millercenter.org/president/roosevelt/campaigns-and-elections\n",
      "https://historynewsnetwork.org/blog/154562\n",
      "https://www.theodorerooseveltcenter.org/Learn-About-TR/TR-Encyclopedia/Capitalism%20and%20Labor/Railroads\n",
      "https://www.gilderlehrman.org/news/pure-food-and-drug-act-passed-day-1906\n",
      "https://time.com/5259995/theodore-roosevelt-portrait-conservation-hunting/\n",
      "https://www.theodorerooseveltcenter.org/Blog/Item/The%20US%20Forest%20Service%20is%20Established\n",
      "https://www.nps.gov/thrb/learn/historyculture/trandthenpsystem.htm#:~:text=As%20President%20from%201901%20to,of%20Chickasaw%20National%20Recreation%20Area\n",
      "https://www.theodorerooseveltcenter.org/Learn-About-TR/TR-Encyclopedia/Conservation/Antiquities%20Act%20of%201906\n",
      "https://www.fws.gov/staff-profile/theodore-roosevelt-1858-1919-conservation-president#:~:text=During%20his%20very%20active%20presidency,the%20first%2018%20national%20monuments\n",
      "https://www.economist.com/briefing/2023/04/13/from-strength-to-strength#:~:text=Since%20America%20became%20the%20world's,workforce%20and%20the%20productivity%20thereof\n",
      "https://millercenter.org/president/roosevelt/foreign-affairs\n",
      "https://www.theodorerooseveltcenter.org/Research/Digital-Library/Record?libID=o286433\n",
      "https://www.heritage.org/political-process/report/the-transformation-american-democracy-teddy-roosevelt-the-1912-election#_ftnref8\n",
      "https://www.gutenberg.org/cache/epub/68052/pg68052-images.html\n",
      "https://firstamendment.mtsu.edu/article/tillman-act-of-1907-1907/\n",
      "https://millercenter.org/the-presidency/presidential-speeches/december-9-1908-eighth-annual-message\n",
      "https://millercenter.org/the-presidency/presidential-speeches/december-3-1907-seventh-annual-message\n",
      "https://www.amazon.com/Warrior-Priest-Woodrow-Theodore-Roosevelt/dp/0674947517/\n",
      "https://millercenter.org/president/taft/campaigns-and-elections\n",
      "https://www.heritage.org/political-process/report/the-transformation-american-democracy-teddy-roosevelt-the-1912-election#_ftnref8\n",
      "https://www.britannica.com/event/United-States-presidential-election-of-1908\n",
      "https://www.gilderlehrman.org/history-resources/essays/square-deal-theodore-roosevelt-and-themes-progressive-reform\n",
      "https://guides.loc.gov/chronicling-america-theodore-roosevelt-expedition\n",
      "https://www.loc.gov/collections/theodore-roosevelt-films/articles-and-essays/timeline-of-theodore-roosevelts-life/1906-to-1910/\n",
      "https://millercenter.org/president/taft/campaigns-and-elections\n",
      "https://www.amazon.com/1912-Roosevelt-Election-Changed-Country-ebook/dp/B000SEVSIG/\n",
      "https://www.presidency.ucsb.edu/documents/progressive-party-platform-1912\n",
      "https://obamawhitehouse.archives.gov/blog/2011/12/06/archives-president-teddy-roosevelts-new-nationalism-speech\n",
      "https://www.heritage.org/political-process/report/the-transformation-american-democracy-teddy-roosevelt-the-1912-election#_ftnref8\n",
      "https://ehistory.osu.edu/exhibitions/1912/content/RepublicanConvention\n",
      "https://archive.org/details/theodoreroosevel0000helf/page/32/mode/2up?q=armageddon\n",
      "https://www.trlibrary.com/bullet-speech/#4\n",
      "https://www.worldatlas.com/articles/most-successful-third-party-us-presidential-candidates.html\n",
      "https://www.heritage.org/political-process/report/woodrow-wilson-godfather-liberalism\n",
      "https://www.amazon.com/Theodore-Rex-Roosevelt-Book-ebook/dp/B004DEPH0M\n",
      "None\n"
     ]
    }
   ],
   "source": [
    "sources = pd.DataFrame({\n",
    "    \"response_code\": [],\n",
    "    \"sub_domain\": [],\n",
    "    \"domain\": [],\n",
    "    \"tld\": []\n",
    "})\n",
    "\n",
    "print(get_sources(driver, sources,\n",
    "            'https://www.prageru.com/video/theodore-roosevelt-the-action-hero-president?playlist=american-presidents'))"
   ]
  },
  {
   "cell_type": "code",
   "execution_count": 12,
   "metadata": {},
   "outputs": [],
   "source": [
    "driver.get('https://www.prageru.com/video/god-vs-atheism-which-is-more-rational?playlist=religion-for-non-believers')"
   ]
  },
  {
   "cell_type": "code",
   "execution_count": 13,
   "metadata": {},
   "outputs": [
    {
     "name": "stderr",
     "output_type": "stream",
     "text": [
      "100%|██████████| 43/43 [00:24<00:00,  1.75it/s]\n",
      "100%|██████████| 24/24 [00:23<00:00,  1.02it/s]\n",
      "100%|██████████| 9/9 [00:05<00:00,  1.70it/s]\n",
      "100%|██████████| 28/28 [00:19<00:00,  1.44it/s]\n",
      "100%|██████████| 22/22 [00:19<00:00,  1.15it/s]\n",
      "100%|██████████| 32/32 [00:27<00:00,  1.18it/s]\n",
      "100%|██████████| 19/19 [00:18<00:00,  1.03it/s]\n",
      "100%|██████████| 26/26 [00:11<00:00,  2.29it/s]\n",
      "100%|██████████| 24/24 [00:07<00:00,  3.11it/s]\n",
      "100%|██████████| 20/20 [01:12<00:00,  3.61s/it]\n",
      "100%|██████████| 22/22 [00:16<00:00,  1.34it/s]\n",
      "0it [00:00, ?it/s]\n",
      "100%|██████████| 56/56 [00:18<00:00,  3.06it/s]\n",
      "100%|██████████| 26/26 [00:10<00:00,  2.44it/s]\n",
      "100%|██████████| 18/18 [00:08<00:00,  2.06it/s]\n",
      "100%|██████████| 31/31 [00:24<00:00,  1.24it/s]\n",
      "0it [00:00, ?it/s]\n",
      "100%|██████████| 47/47 [00:19<00:00,  2.36it/s]\n",
      "100%|██████████| 25/25 [00:16<00:00,  1.52it/s]\n",
      "100%|██████████| 18/18 [00:10<00:00,  1.79it/s]\n",
      "100%|██████████| 47/47 [00:19<00:00,  2.43it/s]\n",
      "100%|██████████| 32/32 [00:15<00:00,  2.10it/s]\n",
      "0it [00:00, ?it/s]\n",
      "100%|██████████| 20/20 [00:08<00:00,  2.23it/s]\n",
      "100%|██████████| 16/16 [00:09<00:00,  1.72it/s]\n"
     ]
    }
   ],
   "source": [
    "sources = get_sources_of_playlist(\n",
    "    driver=driver,\n",
    "    play_list_link='https://www.prageru.com/video/god-vs-atheism-which-is-more-rational?playlist=religion-for-non-believers',\n",
    ")"
   ]
  },
  {
   "cell_type": "code",
   "execution_count": 14,
   "metadata": {},
   "outputs": [],
   "source": [
    "driver.close()"
   ]
  },
  {
   "cell_type": "code",
   "execution_count": 15,
   "metadata": {},
   "outputs": [
    {
     "data": {
      "text/plain": [
       "tld\n",
       "com       411\n",
       "org       130\n",
       "edu        28\n",
       "gov        24\n",
       "            2\n",
       "de          2\n",
       "va          2\n",
       "co.uk       2\n",
       "gov.uk      1\n",
       "net         1\n",
       "org.uk      1\n",
       "ac.uk       1\n",
       "Name: count, dtype: int64"
      ]
     },
     "execution_count": 15,
     "metadata": {},
     "output_type": "execute_result"
    }
   ],
   "source": [
    "sources['tld'].value_counts()"
   ]
  },
  {
   "cell_type": "code",
   "execution_count": 20,
   "metadata": {},
   "outputs": [
    {
     "data": {
      "text/plain": [
       "domain\n",
       "amazon          106\n",
       "prageru          69\n",
       "biblegateway     30\n",
       "peterkreeft      29\n",
       "youtube          25\n",
       "               ... \n",
       "prospect          1\n",
       "www               1\n",
       "city-journal      1\n",
       "cuny              1\n",
       "un                1\n",
       "Name: count, Length: 129, dtype: int64"
      ]
     },
     "execution_count": 20,
     "metadata": {},
     "output_type": "execute_result"
    }
   ],
   "source": [
    "sources['domain'].value_counts()[:-10]"
   ]
  },
  {
   "cell_type": "code",
   "execution_count": null,
   "metadata": {},
   "outputs": [],
   "source": []
  }
 ],
 "metadata": {
  "kernelspec": {
   "display_name": "base",
   "language": "python",
   "name": "python3"
  },
  "language_info": {
   "codemirror_mode": {
    "name": "ipython",
    "version": 3
   },
   "file_extension": ".py",
   "mimetype": "text/x-python",
   "name": "python",
   "nbconvert_exporter": "python",
   "pygments_lexer": "ipython3",
   "version": "3.11.5"
  }
 },
 "nbformat": 4,
 "nbformat_minor": 2
}
